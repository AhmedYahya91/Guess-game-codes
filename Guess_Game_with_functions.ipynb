{
  "nbformat": 4,
  "nbformat_minor": 0,
  "metadata": {
    "colab": {
      "name": "Guess Game with functions",
      "provenance": []
    },
    "kernelspec": {
      "name": "python3",
      "display_name": "Python 3"
    },
    "language_info": {
      "name": "python"
    }
  },
  "cells": [
    {
      "cell_type": "markdown",
      "metadata": {
        "id": "NQuOyznPahpH"
      },
      "source": [
        "# Guessing Game Challenge\n",
        "\n",
        "Let's use `while` loops to create a guessing game.\n",
        "\n",
        "The Challenge:\n",
        "\n",
        "Write a program that picks a random integer from 1 to 100, and has players guess the number. The rules are:\n",
        "\n",
        "1. If a player's guess is less than 1 or greater than 100, say \"OUT OF BOUNDS\"\n",
        "\n",
        "2. On all turns, if a guess is \n",
        " * closer to the number than the previous guess return \"Closer!\"\n",
        " * farther from the number than the previous guess, return \"Farther!\"\n",
        "3. When the player's guess equals the number, tell them they've guessed correctly *and* how many guesses it took!\n",
        "\n",
        "Now Lets o fro the Steps!"
      ]
    },
    {
      "cell_type": "code",
      "metadata": {
        "id": "xa1DqR55sW3Q"
      },
      "source": [
        "#by using functions\n",
        "#instruction\n",
        "print(\"WELCOME TO GUESS ME!\")\n",
        "print(\"I'm thinking of a number between 1 and 100\")\n",
        "print(\"You Typing a number between 1 and 100\")\n",
        "print(\"If your guess is closer to my number, I'll tell you you're closer\")\n",
        "print(\"If your guess is farther than your most recent guess, I'll say you're far\")\n",
        "print(\"LET'S PLAY!\")\n",
        "s=input('when you are ready to start press any the enter key!')\n",
        "def Guess_game():\n",
        "  from random import randint \n",
        "  Actual = randint(1,100)\n",
        "  guesses= [0] #guesses list (have one item (0) to solve the problem of index error when using it in calculation)\n",
        "  i=0 \n",
        "  #global i\n",
        "  while True:\n",
        "   if i <2: \n",
        "     while True:\n",
        "      #ask user to enter number between 1 and 100\n",
        "        Guess= int(input('plz enter a number between 1 and 100  ')) \n",
        "        guesses.append(Guess) \n",
        "        if 1<=Guess &Guess<=100 :\n",
        "         print('good job ,the number is in BOUNDS ')\n",
        "         break\n",
        "        else :\n",
        "         print('the number is OUT OF BOUNDS , plz renter a valid number between 1 and 100 ')\n",
        "     while True:\n",
        "       x=abs(Actual-guesses[-1])<=abs(Actual-guesses[-2])\n",
        "       y=abs(Actual-guesses[-1])>abs(Actual-guesses[-2])\n",
        "       if Guess == Actual  :\n",
        "         print (\"Wow, you've guessed Correctly this time\")\n",
        "         i=3\n",
        "       elif  x :\n",
        "         print(' you are closer to target ')\n",
        "       elif y:\n",
        "         print(' you are far from the target ')\n",
        "       break\n",
        "   else:\n",
        "      print('You have guessed it in {} times'.format((len(guesses)-1)))\n",
        "      print('And your guesses list is {} ,and my number was {} '.format(guesses[1:],Actual))\n",
        "      break\n",
        "def play_again():\n",
        "  Guess_game()\n",
        " \n",
        "Guess_game()\n",
        "while True:\n",
        "  r =input('if you want to play again press 1 then enter or press enter to exit  ')\n",
        "  if r=='1':\n",
        "    play_again()\n",
        "    r='0'\n",
        "  else:\n",
        "    break\n",
        "print('goodbye my player !')"
      ],
      "execution_count": null,
      "outputs": []
    }
  ]
}