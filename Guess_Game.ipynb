{
  "nbformat": 4,
  "nbformat_minor": 0,
  "metadata": {
    "colab": {
      "name": "Guess Game",
      "provenance": []
    },
    "kernelspec": {
      "name": "python3",
      "display_name": "Python 3"
    },
    "language_info": {
      "name": "python"
    }
  },
  "cells": [
    {
      "cell_type": "markdown",
      "metadata": {
        "id": "NQuOyznPahpH"
      },
      "source": [
        "# Guessing Game Challenge\n",
        "\n",
        "Let's use `while` loops to create a guessing game.\n",
        "\n",
        "The Challenge:\n",
        "\n",
        "Write a program that picks a random integer from 1 to 100, and has players guess the number. The rules are:\n",
        "\n",
        "1. If a player's guess is less than 1 or greater than 100, say \"OUT OF BOUNDS\"\n",
        "\n",
        "2. On all turns, if a guess is \n",
        " * closer to the number than the previous guess return \"Closer!\"\n",
        " * farther from the number than the previous guess, return \"Farther!\"\n",
        "3. When the player's guess equals the number, tell them they've guessed correctly *and* how many guesses it took!\n",
        "\n",
        "Now Lets o fro the Steps!"
      ]
    },
    {
      "cell_type": "code",
      "metadata": {
        "colab": {
          "base_uri": "https://localhost:8080/"
        },
        "id": "P8EgcvJwF3vZ",
        "outputId": "f50003ce-81fe-4c36-ec11-f71c68dcc682"
      },
      "source": [
        "#select random number\n",
        "from random import randint \n",
        "Actual = randint(1,100)\n",
        "guesses= [0] #guesses list (have one item (0) to solve the problem of index error when using it in calculation)\n",
        "i=0\n",
        "#instruction\n",
        "print(\"WELCOME TO GUESS ME!\")\n",
        "print(\"I'm thinking of a number between 1 and 100\")\n",
        "print(\"You Typing a number between 1 and 100\")\n",
        "print(\"If your guess is closer to my number, I'll tell you you're closer\")\n",
        "print(\"If your guess is farther than your most recent guess, I'll say you're far\")\n",
        "print(\"LET'S PLAY!\")\n",
        "s=input('when you are ready to start press any the enter key!')\n",
        "while True:\n",
        "  global i\n",
        "  if i <2: \n",
        "    while True:\n",
        "      #ask user to enter number between 1 and 100\n",
        "      Guess= int(input('plz enter a number between 1 and 100  ')) \n",
        "      guesses.append(Guess) \n",
        "      if 1<=Guess &Guess<=100 :\n",
        "        print('good job ,the number is in BOUNDS ')\n",
        "        break\n",
        "      else :\n",
        "        print('the number is OUT OF BOUNDS , plz renter a valid number between 1 and 100 ')\n",
        "      \n",
        "    while True:\n",
        "      x=abs(Actual-guesses[-1])<=abs(Actual-guesses[-2])\n",
        "      y=abs(Actual-guesses[-1])>abs(Actual-guesses[-2])\n",
        "      if Guess == Actual  :\n",
        "       print (\"Wow, you've guessed Correctly this time\")\n",
        "       i=3\n",
        "      elif  x :\n",
        "       print(' you are closer to target ')\n",
        "      elif y:\n",
        "       print(' you are far from the target ')\n",
        "      break\n",
        "  else:\n",
        "    print('You have guessed it in {} times'.format((len(guesses)-1)))\n",
        "    print('And your guesses list is {} ,and my number was {} '.format(guesses[1:],Actual))\n",
        "    break\n"
      ],
      "execution_count": 3,
      "outputs": [
        {
          "output_type": "stream",
          "text": [
            "WELCOME TO GUESS ME!\n",
            "I'm thinking of a number between 1 and 100\n",
            "You Typing a number between 1 and 100\n",
            "If your guess is closer to my number, I'll tell you you're closer\n",
            "If your guess is farther than your most recent guess, I'll say you're far\n",
            "LET'S PLAY!\n",
            "when you are ready to start press any the enter key!\n",
            "plz enter a number between 1 and 100  20\n",
            "good job ,the number is in BOUNDS \n",
            " you are closer to target \n",
            "plz enter a number between 1 and 100  30\n",
            "good job ,the number is in BOUNDS \n",
            " you are closer to target \n",
            "plz enter a number between 1 and 100  40\n",
            "good job ,the number is in BOUNDS \n",
            " you are far from the target \n",
            "plz enter a number between 1 and 100  35\n",
            "good job ,the number is in BOUNDS \n",
            " you are closer to target \n",
            "plz enter a number between 1 and 100  36\n",
            "good job ,the number is in BOUNDS \n",
            " you are far from the target \n",
            "plz enter a number between 1 and 100  33\n",
            "good job ,the number is in BOUNDS \n",
            " you are closer to target \n",
            "plz enter a number between 1 and 100  31\n",
            "good job ,the number is in BOUNDS \n",
            " you are closer to target \n",
            "plz enter a number between 1 and 100  32\n",
            "good job ,the number is in BOUNDS \n",
            "Wow, you've guessed Correctly this time\n",
            "You have guessed it in 8 times\n",
            "And your guesses list is [20, 30, 40, 35, 36, 33, 31, 32] ,and my number was 32 \n"
          ],
          "name": "stdout"
        }
      ]
    }
  ]
}